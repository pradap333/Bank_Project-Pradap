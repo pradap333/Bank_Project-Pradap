{
 "cells": [
  {
   "cell_type": "markdown",
   "id": "b4524c5a-cc75-417c-826f-2c6749b18841",
   "metadata": {},
   "source": [
    "# BANK ACCOUNT PROJECT"
   ]
  },
  {
   "cell_type": "markdown",
   "id": "bc57db25-9cf3-4ff9-a52a-f2b17a8df1d3",
   "metadata": {},
   "source": [
    "# Step1: Connecting [python-jupyter notebook] with [postgreSQL]"
   ]
  },
  {
   "cell_type": "code",
   "execution_count": 1,
   "id": "6b5efa56-0820-4817-9f20-503d7b3ff5b0",
   "metadata": {},
   "outputs": [],
   "source": [
    "import psycopg2"
   ]
  },
  {
   "cell_type": "code",
   "execution_count": 3,
   "id": "6bee53e8-800f-4168-9bac-2560f0231300",
   "metadata": {},
   "outputs": [
    {
     "name": "stdout",
     "output_type": "stream",
     "text": [
      "Connected with postgres successfully\n"
     ]
    }
   ],
   "source": [
    "try:\n",
    "    conn = psycopg2.connect(\n",
    "    dbname=\"my_db\",\n",
    "    user=\"postgres\",\n",
    "    password=\"admin\",\n",
    "    host=\"localhost\",  # or your host\n",
    "    port=\"5432\"  # or your port\n",
    "    )\n",
    "except Exception as e:\n",
    "    print(\"getting error as :\", e)\n",
    "else:\n",
    "    print('Connected with postgres successfully')"
   ]
  },
  {
   "cell_type": "code",
   "execution_count": 5,
   "id": "d21aea78-57ad-497e-9afc-8f29fcbe3978",
   "metadata": {},
   "outputs": [],
   "source": [
    "cur= conn.cursor()"
   ]
  },
  {
   "cell_type": "code",
   "execution_count": 13,
   "id": "8ffec53f-c02a-4c7a-ad83-955a98c2b2fa",
   "metadata": {},
   "outputs": [],
   "source": [
    "conn.rollback()"
   ]
  },
  {
   "cell_type": "markdown",
   "id": "115e896f-b966-4e0b-8c8c-c2e696437024",
   "metadata": {},
   "source": [
    "# Step:2 Creating new table with existing account detail in SQL through python"
   ]
  },
  {
   "cell_type": "code",
   "execution_count": 15,
   "id": "d062c7b4-732e-4f5d-a88b-e4efa6d6c907",
   "metadata": {},
   "outputs": [],
   "source": [
    "cur.execute ('''\n",
    "CREATE TABLE my_project (sl_no NUMERIC(150), account_name VARCHAR(50), account_number NUMERIC(50), account_balance NUMERIC(50));\n",
    "COMMIT;\n",
    "''')"
   ]
  },
  {
   "cell_type": "code",
   "execution_count": null,
   "id": "c589c36d-e7a1-406a-a733-59fe5a1993ea",
   "metadata": {},
   "outputs": [],
   "source": []
  },
  {
   "cell_type": "code",
   "execution_count": 17,
   "id": "237efcb1-aa11-410d-b0b0-3dea6cb2977e",
   "metadata": {},
   "outputs": [],
   "source": [
    "cur.execute('''\n",
    "INSERT INTO my_project (sl_no, account_name, account_number, account_balance)\n",
    "VALUES (1, 'Pradap',1234,5000),(2, 'Hithesh',1235,5800),(3, 'Ajeeth',1236,5200);\n",
    "commit;\n",
    "''')"
   ]
  },
  {
   "cell_type": "code",
   "execution_count": null,
   "id": "5e8efc57-f710-4b6e-970f-cf64c9a505a2",
   "metadata": {},
   "outputs": [],
   "source": []
  },
  {
   "cell_type": "markdown",
   "id": "4ac9eb5a-3c57-4db8-89cb-828cfedbc05b",
   "metadata": {},
   "source": [
    "# Step:3 Creating codes for the bank operation"
   ]
  },
  {
   "cell_type": "code",
   "execution_count": 71,
   "id": "ce8aa1fe-d84f-4db5-8d4d-97babb9f0390",
   "metadata": {},
   "outputs": [],
   "source": [
    "import psycopg2\n",
    "\n",
    "class Bank_account:\n",
    "    def __init__(self,sl_no,account_name,account_number,account_balance=0):\n",
    "        self.sl_no=sl_no,\n",
    "        self.account_name=account_name,\n",
    "        self.account_number= account_number,\n",
    "        self.account_balance= account_balance\n",
    "        \n",
    "        # Establish connection to PostgreSQL\n",
    "        self.conn = psycopg2.connect(\n",
    "            dbname=\"my_db\",\n",
    "            user=\"postgres\",\n",
    "            password=\"admin\",\n",
    "            host=\"localhost\",  # or your host\n",
    "            port=\"5432\"  # or your port\n",
    "        )\n",
    "        \n",
    "        self.cur=self.conn.cursor()\n",
    "    \n",
    "        #Check if the account is exist or not\n",
    "        self.account_exist= self.check_account_exist()\n",
    "\n",
    "    def check_account_exist(self):\n",
    "        # Check if account exists in the database\n",
    "        self.cur.execute(\"SELECT COUNT(*) FROM my_project WHERE account_number = %s\", (self.account_number,))\n",
    "        count = self.cur.fetchone()[0]\n",
    "        return count > 0\n",
    "\n",
    "        #self.account_exist= check_account_exist()\n",
    "\n",
    "\n",
    "#Deposite amount\n",
    "    def deposit(self, account_balance):\n",
    "        if self.account_exist:\n",
    "            if account_balance > 0:\n",
    "                # Fetch the current amount from the database\n",
    "                self.cur.execute(\"SELECT account_balance FROM my_project WHERE account_number = %s\", (self.account_number,))\n",
    "                current_amount = self.cur.fetchone()[0]\n",
    "                \n",
    "                # Update the balance with the fetched amount and the deposit\n",
    "                new_balance = current_amount + account_balance\n",
    "                \n",
    "                # Update the amount in the database\n",
    "                self.cur.execute(\"UPDATE my_project SET account_balance = %s WHERE account_number = %s\", (new_balance, self.account_number))\n",
    "                self.conn.commit()\n",
    "                print(f\"Deposit of ${account_balance} successful. New balance: ${new_balance}\")\n",
    "            else:\n",
    "                print(\"Deposit amount must be positive.\")\n",
    "        else:\n",
    "            print(\"Account does not exist. Please create an account.\")\n",
    "\n",
    "#Withdraw amount\n",
    "    def withdraw(self, account_balance):\n",
    "        if self.account_exist:\n",
    "            if account_balance > 0:\n",
    "                # Fetch the current amount from the database\n",
    "                self.cur.execute(\"SELECT account_balance FROM my_project WHERE account_number = %s\", (self.account_number,))\n",
    "                current_amount = self.cur.fetchone()[0]\n",
    "                \n",
    "                if account_balance <= current_amount:\n",
    "                    # Calculate new balance after withdrawal\n",
    "                    new_balance = current_amount - account_balance\n",
    "                    \n",
    "                    # Update the amount in the database\n",
    "                    self.cur.execute(\"UPDATE my_project SET account_balance = %s WHERE account_number = %s\", (new_balance, self.account_number))\n",
    "                    self.conn.commit()\n",
    "                    print(f\"Withdrawal of ${account_balance} successful. New balance: ${new_balance}\")\n",
    "                else:\n",
    "                    print(\"Withdrawal amount exceeds account balance.\")\n",
    "            else:\n",
    "                print(\"Withdrawal amount must be positive.\")\n",
    "        else:\n",
    "            print(\"Account does not exist. Please create an account.\")\n",
    "\n",
    "\n",
    "#Check the bank balance\n",
    "\n",
    "    def check_balance(self):\n",
    "        if self.account_exist:\n",
    "            # Fetch the amount from the database for the respective account\n",
    "            self.cur.execute(\"SELECT account_balance FROM my_project WHERE account_number = %s\", (self.account_number,))\n",
    "            amount = self.cur.fetchone()[0]\n",
    "            print(f\"Account balance: ${amount}\")\n",
    "        else:\n",
    "            print(\"Account does not exist. Please create an account.\")\n",
    "\n",
    "\n",
    "#Create new account \n",
    "    def create_account(self):\n",
    "        if not self.account_exist:\n",
    "            # Insert new account into the database\n",
    "            self.cur.execute(\"INSERT INTO my_project (sl_no, account_name,account_number, account_balance) VALUES (%s, %s, %s, %s)\",\n",
    "                             (self.sl_no, self.account_name,self.account_number, self.account_balance))\n",
    "            self.conn.commit()\n",
    "            self.account_exist = True\n",
    "            print(\"Account created successfully.\")\n",
    "        else:\n",
    "            print(\"Account already exists.\")\n",
    "        self.closing()\n",
    "    def closing(self):\n",
    "        # Close cursor and connection when object is destroyed\n",
    "        self.cur.close()\n",
    "        self.conn.close()"
   ]
  },
  {
   "cell_type": "markdown",
   "id": "47fae56e-b5ff-46ef-8ce8-c7f70d844e52",
   "metadata": {},
   "source": [
    "# Step:4 Bank operation"
   ]
  },
  {
   "cell_type": "code",
   "execution_count": null,
   "id": "3dec9df1-beb7-459b-b36e-c68711f663f8",
   "metadata": {},
   "outputs": [],
   "source": [
    "#Withdraw amount from exist account"
   ]
  },
  {
   "cell_type": "code",
   "execution_count": 69,
   "id": "93381748-1743-41ea-973e-1091a39d8488",
   "metadata": {},
   "outputs": [
    {
     "name": "stdout",
     "output_type": "stream",
     "text": [
      "Withdrawal of $500 successful. New balance: $4800\n"
     ]
    }
   ],
   "source": [
    "acc=Bank_account(2,'Hithesh',1235)\n",
    "acc.withdraw(500)"
   ]
  },
  {
   "cell_type": "code",
   "execution_count": null,
   "id": "08f8b91a-bfec-4493-97de-e12321554a1f",
   "metadata": {},
   "outputs": [],
   "source": [
    "#create new account"
   ]
  },
  {
   "cell_type": "code",
   "execution_count": 92,
   "id": "d14f2fa0-7749-48ed-96dc-13e50e4504b8",
   "metadata": {},
   "outputs": [
    {
     "name": "stdout",
     "output_type": "stream",
     "text": [
      "Account already exists.\n"
     ]
    }
   ],
   "source": [
    "acc=Bank_account(4,'Manoj',1237,0)\n",
    "acc.create_account()"
   ]
  },
  {
   "cell_type": "code",
   "execution_count": null,
   "id": "95761040-7e3b-44c3-af3d-cf7181cec2f8",
   "metadata": {},
   "outputs": [],
   "source": [
    "#deposite new account"
   ]
  },
  {
   "cell_type": "code",
   "execution_count": 96,
   "id": "e9a74849-33b9-4c77-aa44-41e44cd3c4e7",
   "metadata": {},
   "outputs": [
    {
     "name": "stdout",
     "output_type": "stream",
     "text": [
      "Deposit of $5500 successful. New balance: $5500\n"
     ]
    }
   ],
   "source": [
    "acc=Bank_account(4,'Manoj',1237,0)\n",
    "acc.deposit(5500)"
   ]
  }
 ],
 "metadata": {
  "kernelspec": {
   "display_name": "Python 3 (ipykernel)",
   "language": "python",
   "name": "python3"
  },
  "language_info": {
   "codemirror_mode": {
    "name": "ipython",
    "version": 3
   },
   "file_extension": ".py",
   "mimetype": "text/x-python",
   "name": "python",
   "nbconvert_exporter": "python",
   "pygments_lexer": "ipython3",
   "version": "3.12.4"
  }
 },
 "nbformat": 4,
 "nbformat_minor": 5
}
